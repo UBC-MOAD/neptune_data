{
 "cells": [
  {
   "cell_type": "markdown",
   "metadata": {},
   "source": [
    "## Look at wind data from Environment Canada's meteorological station at Tofino"
   ]
  },
  {
   "cell_type": "markdown",
   "metadata": {},
   "source": [
    "Data from http://climate.weather.gc.ca/climate_data \n",
    "\n",
    "* All times are specified in Local Standard Time (LST). Add 1 hour to adjust for Daylight Saving Time where and when it is observed.\n",
    "\n",
    "**Hourly wind speed and direction at Tofino A** :\n",
    "\n",
    "Latitude:\n",
    "49°04'56.000\" N\n",
    "\n",
    "Longitude:\n",
    "125°46'21.000\" W\n",
    "\n",
    "Elevation:\n",
    "24.40 m\n",
    "\n",
    "Climate ID:\n",
    "1038204\n",
    "\n",
    "TC ID:\n",
    "YAZ\n",
    "\n",
    "\n",
    "**Wind direction**: \n",
    "The direction (true or geographic, not magnetic) from which the wind blows. It represents the average direction during the two minute period ending at the time of observation. Expressed in tens of degrees (10's deg), 9 means 90 degrees true or an east wind, and 36 means 360 degrees true or a wind blowing from the geographic north pole. A value of zero (0) denotes a calm wind.\n",
    "\n",
    "**Wind speed**: The speed of motion of air in kilometres per hour (km/h) usually observed at 10 metres above the ground. It represents the average speed during the two-minute period ending at the time of observation. In observing, it is measured in nautical miles per hour or kilometres per hour.\n",
    "Conversion factors:\n",
    "1 nautical mile = 1852 metres or 1.852 km\n",
    "therefore\n",
    "1 knot = 1.852 km/h\n",
    "and\n",
    "1 km/h = 0.54 knot.\n",
    "\n",
    "\n",
    "\"Station Name\",\"TOFINO A\"\n",
    "\"Province\",\"BRITISH COLUMBIA\"\n",
    "\"Latitude\",\"49.08\"\n",
    "\"Longitude\",\"-125.77\"\n",
    "\"Elevation\",\"24.40\"\n",
    "\"Climate Identifier\",\"1038204\"\n",
    "\"WMO Identifier\",\"\"\n",
    "\"TC Identifier\",\"YAZ\"\n",
    "\"All times are specified in Local Standard Time (LST). Add 1 hour to adjust for Daylight Saving Time where and when it is observed.\"\n",
    "\n",
    "\"Legend\"\n",
    "\"E\",\"Estimated\"\n",
    "\"M\",\"Missing\"\n",
    "\"NA\",\"Not Available\"\n",
    "\"\",\"Partner data that is not subject to review by the National Climate Archives\"\n"
   ]
  },
  {
   "cell_type": "code",
   "execution_count": 1,
   "metadata": {
    "collapsed": false
   },
   "outputs": [
    {
     "name": "stderr",
     "output_type": "stream",
     "text": [
      "/Users/Karina/anaconda3/lib/python3.5/site-packages/matplotlib/__init__.py:872: UserWarning: axes.color_cycle is deprecated and replaced with axes.prop_cycle; please use the latter.\n",
      "  warnings.warn(self.msg_depr % (key, alt_key))\n"
     ]
    }
   ],
   "source": [
    "import glob\n",
    "from math import *\n",
    "import matplotlib.pyplot as plt\n",
    "%matplotlib inline\n",
    "import numpy as np\n",
    "import pandas as pd \n",
    "import seaborn as sns\n",
    "import scipy.io"
   ]
  },
  {
   "cell_type": "code",
   "execution_count": null,
   "metadata": {
    "collapsed": true
   },
   "outputs": [],
   "source": [
    "\n"
   ]
  },
  {
   "cell_type": "code",
   "execution_count": 42,
   "metadata": {
    "collapsed": false
   },
   "outputs": [
    {
     "name": "stdout",
     "output_type": "stream",
     "text": [
      "../EnvCanWind_data/eng-hourly-06012014-06302014.csv\n",
      "../EnvCanWind_data/eng-hourly-07012014-07312014.csv\n",
      "../EnvCanWind_data/eng-hourly-08012014-08312014.csv\n",
      "../EnvCanWind_data/eng-hourly-09012014-09302014.csv\n"
     ]
    }
   ],
   "source": [
    "# This cell generates a data frame with all 5 months of data\n",
    "\n",
    "filenames = glob.glob('../EnvCanWind_data/*.csv')\n",
    "df = pd.read_csv(filenames[0], delimiter=',')\n",
    "\n",
    "for filename in filenames[1:]:\n",
    "    print(filename)\n",
    "    df_temporal = pd.read_csv(filename, delimiter=',')\n",
    "    df = df.append(df_temporal, ignore_index=False)\n"
   ]
  },
  {
   "cell_type": "code",
   "execution_count": 43,
   "metadata": {
    "collapsed": false
   },
   "outputs": [
    {
     "data": {
      "text/plain": [
       "Index(['Date/Time', 'Year', 'Month', 'Day', 'Time', 'Data Quality',\n",
       "       'Temp (°C)', 'Temp Flag', 'Dew Point Temp (°C)', 'Dew Point Temp Flag',\n",
       "       'Rel Hum (%)', 'Rel Hum Flag', 'Wind Dir (10s deg)', 'Wind Dir Flag',\n",
       "       'Wind Spd (km/h)', 'Wind Spd Flag', 'Visibility (km)',\n",
       "       'Visibility Flag', 'Stn Press (kPa)', 'Stn Press Flag', 'Hmdx',\n",
       "       'Hmdx Flag', 'Wind Chill', 'Wind Chill Flag', 'Weather'],\n",
       "      dtype='object')"
      ]
     },
     "execution_count": 43,
     "metadata": {},
     "output_type": "execute_result"
    }
   ],
   "source": [
    "df.columns"
   ]
  },
  {
   "cell_type": "code",
   "execution_count": 44,
   "metadata": {
    "collapsed": false
   },
   "outputs": [
    {
     "ename": "TypeError",
     "evalue": "Only valid with DatetimeIndex, TimedeltaIndex or PeriodIndex, but got an instance of 'Int64Index'",
     "output_type": "error",
     "traceback": [
      "\u001b[0;31m---------------------------------------------------------------------------\u001b[0m",
      "\u001b[0;31mTypeError\u001b[0m                                 Traceback (most recent call last)",
      "\u001b[0;32m<ipython-input-44-49d15b96e40b>\u001b[0m in \u001b[0;36m<module>\u001b[0;34m()\u001b[0m\n\u001b[0;32m----> 1\u001b[0;31m \u001b[0mdf\u001b[0m \u001b[0;34m=\u001b[0m \u001b[0mdf\u001b[0m\u001b[0;34m.\u001b[0m\u001b[0mresample\u001b[0m\u001b[0;34m(\u001b[0m\u001b[0;34m'1d'\u001b[0m\u001b[0;34m,\u001b[0m \u001b[0mhow\u001b[0m\u001b[0;34m=\u001b[0m\u001b[0;34m'mean'\u001b[0m\u001b[0;34m)\u001b[0m\u001b[0;34m\u001b[0m\u001b[0m\n\u001b[0m",
      "\u001b[0;32m/Users/Karina/anaconda3/lib/python3.5/site-packages/pandas/core/generic.py\u001b[0m in \u001b[0;36mresample\u001b[0;34m(self, rule, how, axis, fill_method, closed, label, convention, kind, loffset, limit, base)\u001b[0m\n\u001b[1;32m   3974\u001b[0m                      \u001b[0maxis\u001b[0m\u001b[0;34m=\u001b[0m\u001b[0maxis\u001b[0m\u001b[0;34m,\u001b[0m \u001b[0mkind\u001b[0m\u001b[0;34m=\u001b[0m\u001b[0mkind\u001b[0m\u001b[0;34m,\u001b[0m \u001b[0mloffset\u001b[0m\u001b[0;34m=\u001b[0m\u001b[0mloffset\u001b[0m\u001b[0;34m,\u001b[0m\u001b[0;34m\u001b[0m\u001b[0m\n\u001b[1;32m   3975\u001b[0m                      \u001b[0mconvention\u001b[0m\u001b[0;34m=\u001b[0m\u001b[0mconvention\u001b[0m\u001b[0;34m,\u001b[0m\u001b[0;34m\u001b[0m\u001b[0m\n\u001b[0;32m-> 3976\u001b[0;31m                      base=base)\n\u001b[0m\u001b[1;32m   3977\u001b[0m         return _maybe_process_deprecations(r,\n\u001b[1;32m   3978\u001b[0m                                            \u001b[0mhow\u001b[0m\u001b[0;34m=\u001b[0m\u001b[0mhow\u001b[0m\u001b[0;34m,\u001b[0m\u001b[0;34m\u001b[0m\u001b[0m\n",
      "\u001b[0;32m/Users/Karina/anaconda3/lib/python3.5/site-packages/pandas/tseries/resample.py\u001b[0m in \u001b[0;36mresample\u001b[0;34m(obj, kind, **kwds)\u001b[0m\n\u001b[1;32m    896\u001b[0m     \u001b[0;34m\"\"\" create a TimeGrouper and return our resampler \"\"\"\u001b[0m\u001b[0;34m\u001b[0m\u001b[0m\n\u001b[1;32m    897\u001b[0m     \u001b[0mtg\u001b[0m \u001b[0;34m=\u001b[0m \u001b[0mTimeGrouper\u001b[0m\u001b[0;34m(\u001b[0m\u001b[0;34m**\u001b[0m\u001b[0mkwds\u001b[0m\u001b[0;34m)\u001b[0m\u001b[0;34m\u001b[0m\u001b[0m\n\u001b[0;32m--> 898\u001b[0;31m     \u001b[0;32mreturn\u001b[0m \u001b[0mtg\u001b[0m\u001b[0;34m.\u001b[0m\u001b[0m_get_resampler\u001b[0m\u001b[0;34m(\u001b[0m\u001b[0mobj\u001b[0m\u001b[0;34m,\u001b[0m \u001b[0mkind\u001b[0m\u001b[0;34m=\u001b[0m\u001b[0mkind\u001b[0m\u001b[0;34m)\u001b[0m\u001b[0;34m\u001b[0m\u001b[0m\n\u001b[0m\u001b[1;32m    899\u001b[0m \u001b[0mresample\u001b[0m\u001b[0;34m.\u001b[0m\u001b[0m__doc__\u001b[0m \u001b[0;34m=\u001b[0m \u001b[0mResampler\u001b[0m\u001b[0;34m.\u001b[0m\u001b[0m__doc__\u001b[0m\u001b[0;34m\u001b[0m\u001b[0m\n\u001b[1;32m    900\u001b[0m \u001b[0;34m\u001b[0m\u001b[0m\n",
      "\u001b[0;32m/Users/Karina/anaconda3/lib/python3.5/site-packages/pandas/tseries/resample.py\u001b[0m in \u001b[0;36m_get_resampler\u001b[0;34m(self, obj, kind)\u001b[0m\n\u001b[1;32m   1010\u001b[0m         raise TypeError(\"Only valid with DatetimeIndex, \"\n\u001b[1;32m   1011\u001b[0m                         \u001b[0;34m\"TimedeltaIndex or PeriodIndex, \"\u001b[0m\u001b[0;34m\u001b[0m\u001b[0m\n\u001b[0;32m-> 1012\u001b[0;31m                         \"but got an instance of %r\" % type(ax).__name__)\n\u001b[0m\u001b[1;32m   1013\u001b[0m \u001b[0;34m\u001b[0m\u001b[0m\n\u001b[1;32m   1014\u001b[0m     \u001b[0;32mdef\u001b[0m \u001b[0m_get_grouper\u001b[0m\u001b[0;34m(\u001b[0m\u001b[0mself\u001b[0m\u001b[0;34m,\u001b[0m \u001b[0mobj\u001b[0m\u001b[0;34m)\u001b[0m\u001b[0;34m:\u001b[0m\u001b[0;34m\u001b[0m\u001b[0m\n",
      "\u001b[0;31mTypeError\u001b[0m: Only valid with DatetimeIndex, TimedeltaIndex or PeriodIndex, but got an instance of 'Int64Index'"
     ]
    }
   ],
   "source": [
    "df = df.resample('1d', how='mean')"
   ]
  },
  {
   "cell_type": "code",
   "execution_count": 19,
   "metadata": {
    "collapsed": false
   },
   "outputs": [],
   "source": [
    "uu = df['Wind Spd (km/h)']*np.cos(10.0*df['Wind Dir (10s deg)']-90)\n",
    "vv = df['Wind Spd (km/h)']*np.sin(10.0*df['Wind Dir (10s deg)']-90)"
   ]
  },
  {
   "cell_type": "code",
   "execution_count": 20,
   "metadata": {
    "collapsed": false
   },
   "outputs": [],
   "source": [
    "from datetime import datetime, timedelta\n",
    "\n",
    "start = datetime(2014,5,1)\n",
    "timess = [start + timedelta(hours=n) for n in range(len(uu))]\n"
   ]
  },
  {
   "cell_type": "code",
   "execution_count": 21,
   "metadata": {
    "collapsed": true
   },
   "outputs": [],
   "source": [
    "# function form blog https://ocefpaf.github.io/python4oceanographers/blog/2014/09/15/stick_plot/\n",
    "\n",
    "from matplotlib.dates import date2num\n",
    "\n",
    "\n",
    "def stick_plot(time, u, v, **kw):\n",
    "    width = kw.pop('width', 0.002)\n",
    "    headwidth = kw.pop('headwidth', 0)\n",
    "    headlength = kw.pop('headlength', 0)\n",
    "    headaxislength = kw.pop('headaxislength', 0)\n",
    "    angles = kw.pop('angles', 'uv')\n",
    "    ax = kw.pop('ax', None)\n",
    "    \n",
    "    if angles != 'uv':\n",
    "        raise AssertionError(\"Stickplot angles must be 'uv' so that\"\n",
    "                             \"if *U*==*V* the angle of the arrow on\"\n",
    "                             \"the plot is 45 degrees CCW from the *x*-axis.\")\n",
    "\n",
    "    time, u, v = map(np.asanyarray, (time, u, v))\n",
    "    if not ax:\n",
    "        fig, ax = plt.subplots()\n",
    "    \n",
    "    q = ax.quiver(date2num(time), [[0]*len(time)], u, v,\n",
    "                  angles='uv', width=width, headwidth=headwidth,\n",
    "                  headlength=headlength, headaxislength=headaxislength,\n",
    "                  **kw)\n",
    "\n",
    "    ax.axes.get_yaxis().set_visible(False)\n",
    "    ax.xaxis_date()\n",
    "    return q\n",
    "\n"
   ]
  },
  {
   "cell_type": "code",
   "execution_count": 33,
   "metadata": {
    "collapsed": false
   },
   "outputs": [
    {
     "data": {
      "image/png": "[encoded data removed]",
      "text/plain": [
       "<matplotlib.figure.Figure at 0x11afe89b0>"
      ]
     },
     "metadata": {},
     "output_type": "display_data"
    }
   ],
   "source": [
    "fig, ax = plt.subplots(figsize=(11, 2.75))\n",
    "\n",
    "q = stick_plot(timess, uu, vv, ax=ax, width=0.002, color='green')\n",
    "\n",
    "ref = 10\n",
    "qk = ax.quiverkey(q, 0.1, 0.85, ref,\n",
    "                  \"%s  $km/h$\" % ref,\n",
    "                  labelpos='N', coordinates='axes')\n",
    "\n"
   ]
  },
  {
   "cell_type": "code",
   "execution_count": null,
   "metadata": {
    "collapsed": false
   },
   "outputs": [],
   "source": []
  },
  {
   "cell_type": "code",
   "execution_count": null,
   "metadata": {
    "collapsed": false
   },
   "outputs": [],
   "source": []
  },
  {
   "cell_type": "code",
   "execution_count": 36,
   "metadata": {
    "collapsed": false
   },
   "outputs": [
    {
     "data": {
      "text/plain": [
       "1440"
      ]
     },
     "execution_count": 36,
     "metadata": {},
     "output_type": "execute_result"
    }
   ],
   "source": [
    "60*24"
   ]
  },
  {
   "cell_type": "code",
   "execution_count": null,
   "metadata": {
    "collapsed": true
   },
   "outputs": [],
   "source": []
  }
 ],
 "metadata": {
  "kernelspec": {
   "display_name": "Python 3",
   "language": "python",
   "name": "python3"
  },
  "language_info": {
   "codemirror_mode": {
    "name": "ipython",
    "version": 3
   },
   "file_extension": ".py",
   "mimetype": "text/x-python",
   "name": "python",
   "nbconvert_exporter": "python",
   "pygments_lexer": "ipython3",
   "version": "3.5.1"
  }
 },
 "nbformat": 4,
 "nbformat_minor": 0
}
